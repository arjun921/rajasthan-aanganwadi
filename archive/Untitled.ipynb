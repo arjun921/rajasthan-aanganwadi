{
 "cells": [
  {
   "cell_type": "code",
   "execution_count": 1,
   "metadata": {
    "collapsed": true
   },
   "outputs": [],
   "source": [
    "import os"
   ]
  },
  {
   "cell_type": "code",
   "execution_count": 2,
   "metadata": {},
   "outputs": [
    {
     "data": {
      "text/plain": [
       "['UI',\n",
       " '.DS_Store',\n",
       " 'Untitled.ipynb',\n",
       " 'Aanganwadi',\n",
       " 'key',\n",
       " 'README.md',\n",
       " '.gitignore',\n",
       " 'UI Proto',\n",
       " '.ipynb_checkpoints',\n",
       " 'deploy build android command',\n",
       " '.git',\n",
       " 'keygen Command']"
      ]
     },
     "execution_count": 2,
     "metadata": {},
     "output_type": "execute_result"
    }
   ],
   "source": [
    "os.listdir()"
   ]
  },
  {
   "cell_type": "code",
   "execution_count": 4,
   "metadata": {},
   "outputs": [],
   "source": [
    "jsList = os.listdir('Aanganwadi/www/js/')"
   ]
  },
  {
   "cell_type": "code",
   "execution_count": 38,
   "metadata": {},
   "outputs": [],
   "source": [
    "path = 'Aanganwadi/www/js/'"
   ]
  },
  {
   "cell_type": "code",
   "execution_count": 39,
   "metadata": {},
   "outputs": [
    {
     "name": "stdout",
     "output_type": "stream",
     "text": [
      "File activity_bank.js has been edited.\n",
      "File jquery-3.2.1.min.js has been edited.\n",
      "File activity.js has been edited.\n",
      "File materialize.min.js has been edited.\n",
      "File index.js has been edited.\n",
      "File js.cookie.js has been edited.\n",
      "File login.js has been edited.\n",
      "File content.js has been edited.\n",
      "File materialize.js has been edited.\n",
      "File forms.js has been edited.\n",
      "File app.js has been edited.\n"
     ]
    }
   ],
   "source": [
    "for x in jsList:\n",
    "    if x != '.DS_Store':\n",
    "        print(\"File {} has been edited.\".format(x))\n",
    "        open_file = open(path+x,'r')\n",
    "        s = open_file.read()\n",
    "        s = s.replace('../UI/','')\n",
    "        open_file.close()\n",
    "        write_file = open(path+x,'w')\n",
    "        write_file.write(s)\n",
    "        write_file.close()"
   ]
  },
  {
   "cell_type": "code",
   "execution_count": 44,
   "metadata": {},
   "outputs": [
    {
     "data": {
      "text/plain": [
       "0"
      ]
     },
     "execution_count": 44,
     "metadata": {},
     "output_type": "execute_result"
    }
   ],
   "source": [
    "os.system(\"cd ..\")"
   ]
  },
  {
   "cell_type": "code",
   "execution_count": 35,
   "metadata": {
    "collapsed": true
   },
   "outputs": [],
   "source": []
  },
  {
   "cell_type": "code",
   "execution_count": null,
   "metadata": {
    "collapsed": true
   },
   "outputs": [],
   "source": []
  }
 ],
 "metadata": {
  "kernelspec": {
   "display_name": "Python [default]",
   "language": "python",
   "name": "python3"
  },
  "language_info": {
   "codemirror_mode": {
    "name": "ipython",
    "version": 3
   },
   "file_extension": ".py",
   "mimetype": "text/x-python",
   "name": "python",
   "nbconvert_exporter": "python",
   "pygments_lexer": "ipython3",
   "version": "3.6.2"
  }
 },
 "nbformat": 4,
 "nbformat_minor": 2
}
